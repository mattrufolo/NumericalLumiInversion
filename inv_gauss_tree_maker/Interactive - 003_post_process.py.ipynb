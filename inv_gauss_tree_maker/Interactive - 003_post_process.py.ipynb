{
 "cells": [
  {
   "cell_type": "markdown",
   "metadata": {
    "isInteractiveWindowMessageCell": true
   },
   "source": [
    "Connected to mruf_env (Python 3.12.1)"
   ]
  },
  {
   "cell_type": "code",
   "execution_count": 1,
   "metadata": {},
   "outputs": [
    {
     "name": "stdout",
     "output_type": "stream",
     "text": [
      "numbu\n"
     ]
    },
    {
     "ename": "NameError",
     "evalue": "name 'rel_err_noerrxy12' is not defined",
     "output_type": "error",
     "traceback": [
      "\u001b[0;31m---------------------------------------------------------------------------\u001b[0m",
      "\u001b[0;31mNameError\u001b[0m                                 Traceback (most recent call last)",
      "\u001b[1;32m/home/mrufolo/storage/NumericalLumiInversion/inv_gauss_tree_maker/003_post_process.py\u001b[0m in \u001b[0;36mline 58\n\u001b[1;32m     <a href='file:///home/mrufolo/storage/NumericalLumiInversion/inv_gauss_tree_maker/003_post_process.py?line=177'>178</a>\u001b[0m     frac_int_eps \u001b[39m=\u001b[39m np\u001b[39m.\u001b[39mconcatenate([frac_int_eps,[[data_out[\u001b[39m'\u001b[39m\u001b[39meps\u001b[39m\u001b[39m'\u001b[39m][ii][jj]\u001b[39m/\u001b[39m(\u001b[39m2.3e-6\u001b[39m)\u001b[39m-\u001b[39m\u001b[39m1\u001b[39m \u001b[39mfor\u001b[39;00m jj \u001b[39min\u001b[39;00m\\\n\u001b[1;32m     <a href='file:///home/mrufolo/storage/NumericalLumiInversion/inv_gauss_tree_maker/003_post_process.py?line=178'>179</a>\u001b[0m                   \u001b[39mrange\u001b[39m(\u001b[39mlen\u001b[39m(data_out[\u001b[39m'\u001b[39m\u001b[39meps\u001b[39m\u001b[39m'\u001b[39m][ii]))] \u001b[39mfor\u001b[39;00m ii \u001b[39min\u001b[39;00m \u001b[39mrange\u001b[39m(\u001b[39mlen\u001b[39m(data_out[\u001b[39m'\u001b[39m\u001b[39meps\u001b[39m\u001b[39m'\u001b[39m]))]],axis \u001b[39m=\u001b[39m \u001b[39m0\u001b[39m)\n\u001b[1;32m     <a href='file:///home/mrufolo/storage/NumericalLumiInversion/inv_gauss_tree_maker/003_post_process.py?line=179'>180</a>\u001b[0m     frac_init_est_eps \u001b[39m=\u001b[39m np\u001b[39m.\u001b[39mconcatenate([frac_init_est_eps,[[data_out[\u001b[39m'\u001b[39m\u001b[39mest_eps\u001b[39m\u001b[39m'\u001b[39m][ii][jj]\u001b[39m/\u001b[39m(\u001b[39m2.3e-6\u001b[39m)\u001b[39m-\u001b[39m\u001b[39m1\u001b[39m \u001b[39mfor\u001b[39;00m jj \u001b[39min\u001b[39;00m\\\n\u001b[1;32m     <a href='file:///home/mrufolo/storage/NumericalLumiInversion/inv_gauss_tree_maker/003_post_process.py?line=180'>181</a>\u001b[0m                   \u001b[39mrange\u001b[39m(\u001b[39mlen\u001b[39m(data_out[\u001b[39m'\u001b[39m\u001b[39mest_eps\u001b[39m\u001b[39m'\u001b[39m][ii]))] \u001b[39mfor\u001b[39;00m ii \u001b[39min\u001b[39;00m \u001b[39mrange\u001b[39m(\u001b[39mlen\u001b[39m(data_out[\u001b[39m'\u001b[39m\u001b[39mest_eps\u001b[39m\u001b[39m'\u001b[39m]))]],axis \u001b[39m=\u001b[39m \u001b[39m0\u001b[39m)\n\u001b[0;32m---> <a href='file:///home/mrufolo/storage/NumericalLumiInversion/inv_gauss_tree_maker/003_post_process.py?line=182'>183</a>\u001b[0m     rel_err_noerrxy12 \u001b[39m=\u001b[39m np\u001b[39m.\u001b[39mappend(rel_err_noerrxy12,[np\u001b[39m.\u001b[39mlinalg\u001b[39m.\u001b[39mnorm([(data_out[\u001b[39m'\u001b[39m\u001b[39meps\u001b[39m\u001b[39m'\u001b[39m][ii][jj]\u001b[39m-\u001b[39mdata_out[\u001b[39m'\u001b[39m\u001b[39mest_eps\u001b[39m\u001b[39m'\u001b[39m][ii][jj]) \u001b[39mfor\u001b[39;00m jj \u001b[39min\u001b[39;00m \u001b[39mrange\u001b[39m(\u001b[39mlen\u001b[39m(data_out[\u001b[39m'\u001b[39m\u001b[39meps\u001b[39m\u001b[39m'\u001b[39m][ii]))])\u001b[39m/\u001b[39mnp\u001b[39m.\u001b[39mlinalg\u001b[39m.\u001b[39mnorm(data_out[\u001b[39m'\u001b[39m\u001b[39meps\u001b[39m\u001b[39m'\u001b[39m][ii]) \u001b[39mfor\u001b[39;00m ii \u001b[39min\u001b[39;00m \u001b[39mrange\u001b[39m(\u001b[39mlen\u001b[39m(data_out[\u001b[39m'\u001b[39m\u001b[39meps\u001b[39m\u001b[39m'\u001b[39m]))])\n\u001b[1;32m     <a href='file:///home/mrufolo/storage/NumericalLumiInversion/inv_gauss_tree_maker/003_post_process.py?line=183'>184</a>\u001b[0m     rel_err1_noerrxy12 \u001b[39m=\u001b[39m np\u001b[39m.\u001b[39mappend(rel_err1_noerrxy12,[[(data_out[\u001b[39m'\u001b[39m\u001b[39meps\u001b[39m\u001b[39m'\u001b[39m][ii][jj]\u001b[39m-\u001b[39mdata_out[\u001b[39m'\u001b[39m\u001b[39mest_eps\u001b[39m\u001b[39m'\u001b[39m][ii][jj])\u001b[39m/\u001b[39mdata_out[\u001b[39m'\u001b[39m\u001b[39meps\u001b[39m\u001b[39m'\u001b[39m][ii][jj] \u001b[39mfor\u001b[39;00m jj \u001b[39min\u001b[39;00m \u001b[39mrange\u001b[39m(\u001b[39mlen\u001b[39m(data_out[\u001b[39m'\u001b[39m\u001b[39meps\u001b[39m\u001b[39m'\u001b[39m][ii]))] \u001b[39mfor\u001b[39;00m ii \u001b[39min\u001b[39;00m \u001b[39mrange\u001b[39m(\u001b[39mlen\u001b[39m(data_out[\u001b[39m'\u001b[39m\u001b[39meps\u001b[39m\u001b[39m'\u001b[39m]))])\n\u001b[1;32m     <a href='file:///home/mrufolo/storage/NumericalLumiInversion/inv_gauss_tree_maker/003_post_process.py?line=186'>187</a>\u001b[0m frac_int_eps_x1 \u001b[39m=\u001b[39m [frac_int_eps[ii][\u001b[39m0\u001b[39m] \u001b[39mfor\u001b[39;00m ii \u001b[39min\u001b[39;00m \u001b[39mrange\u001b[39m(\u001b[39mlen\u001b[39m(frac_int_eps))]\n",
      "\u001b[0;31mNameError\u001b[0m: name 'rel_err_noerrxy12' is not defined"
     ]
    }
   ],
   "source": [
    "#TREES PLOT FOR 4 DIMENSIONS problems\n",
    "from matplotlib import pyplot as plt\n",
    "from inversion_fun import Inv_gauss_xy12 as  inv_g\n",
    "from inversion_fun import lumi_formula_no_inner as lumi\n",
    "import random\n",
    "import json\n",
    "import contextlib\n",
    "import matplotlib.cm as cm\n",
    "from matplotlib.gridspec import GridSpec\n",
    "import numpy as np\n",
    "\n",
    "[f,nb,N,energy_tot] = [11245,2736,1.4e11,6800]\n",
    "[dif_mu0x,dif_mu0y] = [0,0]\n",
    "[dif_px,dif_py] = [0,320e-6]#[160e-6,160e-6]\n",
    "[alphax,alphay] = [0,0]\n",
    "[sigmaz] = [0.35]\n",
    "[betax,betay] =[0.3,0.3]\n",
    "[deltap_p0] = [0]\n",
    "[dmu0x,dmu0y] = [0,0]\n",
    "[dpx,dpy] = [0,0]\n",
    "parameters_sym = [f,nb,N,N,energy_tot,energy_tot,dif_mu0x,dif_mu0y,dif_px,dif_py, alphax,alphay,alphax,alphay,sigmaz,sigmaz,\n",
    "            betax,betay,betax,betay,deltap_p0,deltap_p0,dmu0x,dmu0y,-dmu0x,-dmu0y,dpx,dpy,-dpx,-dpy]\n",
    "\n",
    "\n",
    "names = 'mu_cross'\n",
    "folder = '../examples/trees/plots'\n",
    "dict = {'mu0x':[0.01],'mu0y':[0.01],'px':[0.01],'py':[0.01]}\n",
    "titles = r'Reconstruction of target $\\mathbf{\\vec{\\epsilon}}$ by Luminosity, varying separation & crossing angle ($\\mathbf{\\vec{\\mu}}$,$\\mathbf{\\vec{\\theta}})$'\n",
    "titles_iter = r'Reconstruction iterations in order to reach a specific $\\vec{\\epsilon}$, varying $\\mathbf{\\mu}$ & $\\mathbf{\\theta}$'\n",
    "titles_iter_zoom = r'Zoom on reconstruction iterations in order to reach a specific $\\vec{\\epsilon}$, varying $\\mathbf{\\mu}$ & $\\mathbf{\\theta}$'\n",
    "path = f'../examples/trees/tree_noerrxy12/000'\n",
    "js = open(path + '/output_data.json')\n",
    "data_out = json.load(js)\n",
    "\n",
    "frac_int_eps = [[data_out['eps'][ii][jj]/(2.3e-6)-1 for jj in\\\n",
    "                  range(len(data_out['eps'][ii]))] for ii in range(len(data_out['eps']))]\n",
    "frac_init_est_eps = [[data_out['est_eps'][ii][jj]/(2.3e-6)-1 for jj in\\\n",
    "                  range(len(data_out['est_eps'][ii]))] for ii in range(len(data_out['est_eps']))]\n",
    "rel_err_noerrxy = [np.linalg.norm([(data_out['eps'][ii][jj]-data_out['est_eps'][ii][jj]) for jj in range(len(data_out['eps'][ii]))])/np.linalg.norm(data_out['eps'][ii]) for ii in range(len(data_out['eps']))]\n",
    "rel_err1_noerrxy = [[(data_out['eps'][ii][jj]-data_out['est_eps'][ii][jj])/data_out['eps'][ii][jj] for jj in range(len(data_out['eps'][ii]))] for ii in range(len(data_out['eps']))]\n",
    "for jobs in range(3):\n",
    "    # fig,ax = plt.subplots(1,2,figsize = (20,10))\n",
    "    jobs = jobs\n",
    "\n",
    "    #square definition\n",
    "    x = [-0.2, 0.2, 0.2, -0.2, -0.2]\n",
    "    y = [-0.2, -0.2, 0.2, 0.2, -0.2]\n",
    "\n",
    "    path = f'../examples/trees/tree_noerrxy12/{jobs+1:03}'\n",
    "    js = open(path + '/output_data.json')\n",
    "    data_out = json.load(js)\n",
    "    frac_int_eps = np.concatenate([frac_int_eps,[[data_out['eps'][ii][jj]/(2.3e-6)-1 for jj in\\\n",
    "                  range(len(data_out['eps'][ii]))] for ii in range(len(data_out['eps']))]],axis = 0)\n",
    "    frac_init_est_eps = np.concatenate([frac_init_est_eps,[[data_out['est_eps'][ii][jj]/(2.3e-6)-1 for jj in\\\n",
    "                  range(len(data_out['est_eps'][ii]))] for ii in range(len(data_out['est_eps']))]],axis = 0)\n",
    "\n",
    "    rel_err_noerrxy12 = np.append(rel_err_noerrxy12,[np.linalg.norm([(data_out['eps'][ii][jj]-data_out['est_eps'][ii][jj]) for jj in range(len(data_out['eps'][ii]))])/np.linalg.norm(data_out['eps'][ii]) for ii in range(len(data_out['eps']))])\n",
    "    rel_err1_noerrxy12 = np.append(rel_err1_noerrxy12,[[(data_out['eps'][ii][jj]-data_out['est_eps'][ii][jj])/data_out['eps'][ii][jj] for jj in range(len(data_out['eps'][ii]))] for ii in range(len(data_out['eps']))])\n",
    "    \n",
    "\n",
    "frac_int_eps_x1 = [frac_int_eps[ii][0] for ii in range(len(frac_int_eps))]\n",
    "frac_int_eps_x2 = [frac_int_eps[ii][2] for ii in range(len(frac_int_eps))]\n",
    "frac_int_eps_y1 = [frac_int_eps[ii][1] for ii in range(len(frac_int_eps))]\n",
    "frac_int_eps_y2 = [frac_int_eps[ii][3] for ii in range(len(frac_int_eps))]\n",
    "frac_init_est_eps_x1 = [frac_init_est_eps[ii][0] for ii in range(len(frac_init_est_eps))]\n",
    "frac_init_est_eps_x2 = [frac_init_est_eps[ii][2] for ii in range(len(frac_init_est_eps))]\n",
    "frac_init_est_eps_y1 = [frac_init_est_eps[ii][1] for ii in range(len(frac_init_est_eps))]\n",
    "frac_init_est_eps_y2 = [frac_init_est_eps[ii][3] for ii in range(len(frac_init_est_eps))]\n",
    "\n",
    "    # fig.suptitle(titles[jobs], fontsize=20)\n",
    "\n",
    "    # Plot the square\n",
    "#     ax[0].plot(x, y, linewidth = 4)\n",
    "#     ax[1].plot(x, y, linewidth = 4)\n",
    "\n",
    "#     ax[0].scatter(frac_int_eps_x1[0],frac_int_eps_x2[0],marker   = 'x', c = 'black',s = 100,linewidths=3, label = r'target $\\mathbf{\\vec{\\epsilon}_{x}}$')\n",
    "#     ax[1].scatter(frac_int_eps_y1[0],frac_int_eps_y2[0],marker   = 'x', c = 'black',s = 100,\n",
    "#     linewidths=3, label = r'target $\\mathbf{\\vec{\\epsilon}_{y}})$')\n",
    "#     ax[0].scatter(frac_init_est_eps_x1[0],frac_init_est_eps_x2[0], c = 'orange', s = 30,label = r'estimated $\\mathbf{\\vec{\\epsilon}_{x}}$')\n",
    "#     ax[1].scatter(frac_init_est_eps_y1[0],frac_init_est_eps_y2[0], c = 'orange', s = 30,label = r'estimated $\\mathbf{\\vec{\\epsilon}_{y}}$')\n",
    "#     ax[0].scatter(0,0, c = 'red',s = 40, label = r'intial guess ($\\mathbf{\\vec{\\epsilon}_{x0}}$)')\n",
    "#     ax[1].scatter(0,0, c = 'red',s = 40, label = r'initial guess ($\\mathbf{\\vec{\\epsilon}_{y0}}$')\n",
    "#     ax[0].set_xlabel(r'$\\frac{(\\vec{\\epsilon}_{x})_{1}-(\\vec{\\epsilon}_{x0})_{1}}{(\\vec{\\epsilon}_{x})_{1}}$', fontsize = 20)\n",
    "#     ax[0].set_ylabel(r'$\\frac{(\\vec{\\epsilon}_{x})_{2}-(\\vec{\\epsilon}_{x0})_{2}}{(\\vec{\\epsilon}_{x})_{2}}$', fontsize = 20)\n",
    "#     ax[1].set_xlabel(r'$\\frac{(\\vec{\\epsilon}_{y})_{1}-(\\vec{\\epsilon}_{y0})_{1}}{(\\vec{\\epsilon}_{y})_{1}}$', fontsize = 20)\n",
    "#     ax[1].set_ylabel(r'$\\frac{(\\vec{\\epsilon}_{y})_{2}-(\\vec{\\epsilon}_{y0})_{2}}{(\\vec{\\epsilon}_{y})_{2}}$', fontsize = 20)\n",
    "\n",
    "#     ax[0].legend(fontsize = 20, loc = 'upper right')\n",
    "#     ax[1].legend(fontsize = 20, loc = 'upper right')\n",
    "#     ax[0].set_xlim((-0.25,0.25))\n",
    "#     ax[0].set_ylim((-0.25,0.25))\n",
    "#     ax[1].set_xlim((-0.25,0.25))\n",
    "#     ax[1].set_ylim((-0.25,0.25))\n",
    "#     # fig.savefig(f'{folder}/one_eps/{names[jobs]}_LS.png')\n",
    "\n",
    "# ########## COMPUTATION ITERATIONS\n",
    "\n",
    "#     random.seed(42)\n",
    "#     epsx1 = random.uniform(2.3e-6-4.6e-7,2.3e-6+4.6e-7)\n",
    "#     epsy1 = random.uniform(2.3e-6-4.6e-7,2.3e-6+4.6e-7)\n",
    "#     epsx2 = random.uniform(2.3e-6-4.6e-7,2.3e-6+4.6e-7)\n",
    "#     epsy2 = random.uniform(2.3e-6-4.6e-7,2.3e-6+4.6e-7)\n",
    "#     eps = [epsx1,epsy1,epsx2,epsy2]\n",
    "\n",
    "\n",
    "#     dict_shift = dict[jobs]\n",
    "#     # for j in range(iterations):\n",
    "#     #     print(j)\n",
    "#     with open(f\"output_zoom.txt\",\"w\") as h,contextlib.redirect_stdout(h):\n",
    "#         [est_eps,function, jacobian, time_LS, iterations] = inv_g.inv_gauss_single_par(epsx1,epsy1,epsx2,epsy2,dict_shift, verbose = 2, iteration = 0)\n",
    "\n",
    "\n",
    "\n",
    "\n",
    "#     with open('output_zoom.txt') as f:\n",
    "#         contents = f.read()\n",
    "#     from scipy.stats import gaussian_kde\n",
    "#     fig1,ax1 = plt.subplots(1,2,figsize = (20,10))\n",
    "#     it_norm_x1 = [(eval(ii.split('\\nObjective')[0])[0]/(2.3e-6) -1) for ii in contents.split('=============\\nSolution: ')[1:]]\n",
    "#     it_norm_x2 = [(eval(ii.split('\\nObjective')[0])[2]/(2.3e-6) -1) for ii in contents.split('=============\\nSolution: ')[1:]]\n",
    "#     it_norm_y1 = [(eval(ii.split('\\nObjective')[0])[1]/(2.3e-6) -1) for ii in contents.split('=============\\nSolution: ')[1:]]\n",
    "#     it_norm_y2 = [(eval(ii.split('\\nObjective')[0])[3]/(2.3e-6) -1) for ii in contents.split('=============\\nSolution: ')[1:]]\n",
    "\n",
    "#     cmap = plt.cm.get_cmap('viridis')\n",
    "\n",
    "    \n",
    "#     scatter0 = ax1[0].scatter(it_norm_x1[1:],it_norm_x2[1:],c=np.arange(len(it_norm_x1)-1),cmap = cmap)\n",
    "#     scatter1 = ax1[1].scatter(it_norm_y1[1:],it_norm_y2[1:],c=np.arange(len(it_norm_y1)-1), cmap = cmap)    \n",
    "#     ax1[0].scatter(0,0, c = 'red',s = 40)\n",
    "#     ax1[1].scatter(0,0, c = 'red',s = 40)\n",
    "#     ax1[0].scatter(frac_int_eps_x1[0],frac_int_eps_x2[0],marker   = 'x', c = 'black',s = 100,linewidths=3,zorder = 3)\n",
    "#     ax1[1].scatter(frac_int_eps_y1[0],frac_int_eps_y2[0],marker   = 'x', c = 'black',s = 100,\n",
    "#     linewidths=3)\n",
    "#     fig1.suptitle(titles_iter[jobs], fontsize=20)\n",
    "#     ax1[0].set_xlabel(r'$\\frac{(\\vec{\\epsilon}_{x})_{1}-(\\vec{\\epsilon}_{x0})_{1}}{(\\vec{\\epsilon}_{x})_{1}}$', fontsize = 20)\n",
    "#     ax1[0].set_ylabel(r'$\\frac{(\\vec{\\epsilon}_{x})_{2}-(\\vec{\\epsilon}_{x0})_{2}}{(\\vec{\\epsilon}_{x})_{2}}$', fontsize = 20)\n",
    "#     ax1[1].set_xlabel(r'$\\frac{(\\vec{\\epsilon}_{y})_{1}-(\\vec{\\epsilon}_{y0})_{1}}{(\\vec{\\epsilon}_{y})_{1}}$', fontsize = 20)\n",
    "#     ax1[1].set_ylabel(r'$\\frac{(\\vec{\\epsilon}_{y})_{2}-(\\vec{\\epsilon}_{y0})_{2}}{(\\vec{\\epsilon}_{y})_{2}}$', fontsize = 20)\n",
    "#     ax1[0].set_xlim((-0.25,0.25))\n",
    "#     ax1[0].set_ylim((-0.25,0.25))\n",
    "#     ax1[1].set_xlim((-0.25,0.25))\n",
    "#     ax1[1].set_ylim((-0.25,0.25))\n",
    "#     cbar1 = fig1.colorbar(scatter0, ax=ax1[0])\n",
    "#     cbar2 = fig1.colorbar(scatter1, ax=ax1[1])\n",
    "#     # fig1.savefig(f'{folder}/one_eps/{names[jobs]}_iter_LS.png')\n",
    "\n",
    "# ########################\n",
    "\n",
    "#     fig2,ax2 = plt.subplots(1,2,figsize = (20,10))\n",
    "#     ax2[0].plot(it_norm_x1,it_norm_x2, zorder=1)\n",
    "#     ax2[1].plot(it_norm_y1,it_norm_y2, zorder=1)\n",
    "#     scatter0 = ax2[0].scatter(it_norm_x1[1:],it_norm_x2[1:],c=np.arange(len(it_norm_x1)-1),cmap = cmap, zorder=2)\n",
    "#     scatter1 = ax2[1].scatter(it_norm_y1[1:],it_norm_y2[1:],c=np.arange(len(it_norm_y1)-1), cmap = cmap, zorder=2)    \n",
    "#     ax2[0].scatter(0,0, c = 'red',s = 40)\n",
    "#     ax2[1].scatter(0,0, c = 'red',s = 40)\n",
    "#     ax2[0].scatter(frac_int_eps_x1[0],frac_int_eps_x2[0],marker   = 'x', c = 'black',s = 100,linewidths=3,zorder = 3)\n",
    "#     ax2[1].scatter(frac_int_eps_y1[0],frac_int_eps_y2[0],marker   = 'x', c = 'black',s = 100,linewidths=3,zorder = 3)\n",
    "\n",
    "#     fig2.suptitle(titles_iter_zoom[jobs], fontsize=20)\n",
    "#     ax2[0].set_xlabel(r'$\\frac{(\\vec{\\epsilon}_{x})_{1}-(\\vec{\\epsilon}_{x0})_{1}}{(\\vec{\\epsilon}_{x})_{1}}$', fontsize = 20)\n",
    "#     ax2[0].set_ylabel(r'$\\frac{(\\vec{\\epsilon}_{x})_{2}-(\\vec{\\epsilon}_{x0})_{2}}{(\\vec{\\epsilon}_{x})_{2}}$', fontsize = 20)\n",
    "#     ax2[1].set_xlabel(r'$\\frac{(\\vec{\\epsilon}_{y})_{1}-(\\vec{\\epsilon}_{y0})_{1}}{(\\vec{\\epsilon}_{y})_{1}}$', fontsize = 20)\n",
    "#     ax2[1].set_ylabel(r'$\\frac{(\\vec{\\epsilon}_{y})_{2}-(\\vec{\\epsilon}_{y0})_{2}}{(\\vec{\\epsilon}_{y})_{2}}$', fontsize = 20)\n",
    "    \n",
    "\n",
    "#     cbar1 = fig2.colorbar(scatter0, ax=ax2[0])\n",
    "#     cbar2 = fig2.colorbar(scatter1, ax=ax2[1])\n",
    "#     # fig2.savefig(f'{folder}/one_eps/zoom_{names[jobs]}_iter_LS.png')\n",
    "# ################\n",
    "\n",
    "#     iter_x1 = [eval(ii.split('\\nObjective')[0])[0] for ii in contents.split('=============\\nSolution: ')[1:]]\n",
    "#     iter_x2 = [eval(ii.split('\\nObjective')[0])[2] for ii in contents.split('=============\\nSolution: ')[1:]]\n",
    "#     iter_y1 = [eval(ii.split('\\nObjective')[0])[1] for ii in contents.split('=============\\nSolution: ')[1:]]\n",
    "#     iter_y2 = [eval(ii.split('\\nObjective')[0])[3] for ii in contents.split('=============\\nSolution: ')[1:]]\n",
    "\n",
    "#     L_target = lumi.L(epsx1,epsy1,epsx2,epsy2, *parameters_sym) \n",
    "#     L_iteration = [lumi.L(iter_x1[j],iter_y1[j],iter_x2[j],iter_y2[j], *parameters_sym) for j in range(len(iter_x1))]\n",
    "    \n",
    "#     rel_err_L = [abs(L_target-L_iteration[ii+len(L_iteration)-100])/L_target for ii in range(len(L_iteration)-(len(L_iteration)-100))]\n",
    "    \n",
    "#     fig3,ax3 = plt.subplots(figsize = (20,10))\n",
    "#     fig3.suptitle('Relative error on Luminosity estimation over the last 100 iterations', fontsize=20)\n",
    "#     ax3.plot(np.linspace(len(L_iteration)-100,len(L_iteration)-1,len(L_iteration)-(len(L_iteration)-100)),rel_err_L)\n",
    "#     ax3.set_xlabel('Iterations of Least Squares', fontsize = 20)\n",
    "#     ax3.set_ylabel(r'$\\frac{(\\mathcal{L}_{target}-\\mathcal{L}_{iter})}{\\mathcal{L}_{target}}$', fontsize = 20)\n",
    "#     # fig3.savefig(f'{folder}/one_eps/rel_err_L_{names[jobs]}.png')\n",
    "\n",
    "# #################\n",
    "\n",
    "#     fig4,ax4 = plt.subplots(1,2,figsize = (20,10))\n",
    "#     fig4.suptitle(titles[jobs], fontsize=20)\n",
    "\n",
    "\n",
    "#     # Plot the square\n",
    "#     ax4[0].plot(x, y, linewidth = 4)\n",
    "#     ax4[1].plot(x, y, linewidth = 4)\n",
    "\n",
    "#     ax4[0].scatter(frac_int_eps_x1,frac_int_eps_x2,marker   = 'x', c = 'black',s = 100,linewidths=3, label = r'target $\\mathbf{\\vec{\\epsilon}_{x}}$')\n",
    "#     ax4[1].scatter(frac_int_eps_y1,frac_int_eps_y2,marker   = 'x', c = 'black',s = 100,\n",
    "#     linewidths=3, label = r'target $\\mathbf{\\vec{\\epsilon}_{y}})$')\n",
    "#     ax4[0].scatter(frac_init_est_eps_x1,frac_init_est_eps_x2, c = 'orange', s = 10,label = r'estimated $\\mathbf{\\vec{\\epsilon}_{x}}$')\n",
    "#     ax4[1].scatter(frac_init_est_eps_y1,frac_init_est_eps_y2, c = 'orange', s = 10,label = r'estimated $\\mathbf{\\vec{\\epsilon}_{y}}$')\n",
    "#     ax4[0].scatter(0,0, c = 'red',s = 40, label = r'intial guess ($\\mathbf{\\vec{\\epsilon}_{x0}}$)')\n",
    "#     ax4[1].scatter(0,0, c = 'red',s = 40, label = r'initial guess ($\\mathbf{\\vec{\\epsilon}_{y0}}$')\n",
    "#     ax4[0].set_xlabel(r'$\\frac{(\\vec{\\epsilon}_{x})_{1}-(\\vec{\\epsilon}_{x0})_{1}}{(\\vec{\\epsilon}_{x})_{1}}$', fontsize = 20)\n",
    "#     ax4[0].set_ylabel(r'$\\frac{(\\vec{\\epsilon}_{x})_{2}-(\\vec{\\epsilon}_{x0})_{2}}{(\\vec{\\epsilon}_{x})_{2}}$', fontsize = 20)\n",
    "#     ax4[1].set_xlabel(r'$\\frac{(\\vec{\\epsilon}_{y})_{1}-(\\vec{\\epsilon}_{y0})_{1}}{(\\vec{\\epsilon}_{y})_{1}}$', fontsize = 20)\n",
    "#     ax4[1].set_ylabel(r'$\\frac{(\\vec{\\epsilon}_{y})_{2}-(\\vec{\\epsilon}_{y0})_{2}}{(\\vec{\\epsilon}_{y})_{2}}$', fontsize = 20)\n",
    "\n",
    "#     ax4[0].legend(fontsize = 20, loc = 'upper right')\n",
    "#     ax4[1].legend(fontsize = 20, loc = 'upper right')\n",
    "#     # fig4.savefig(f'{folder}/all_{names[jobs]}_LS.png')"
   ]
  },
  {
   "cell_type": "code",
   "execution_count": 2,
   "metadata": {},
   "outputs": [],
   "source": [
    "#TREES PLOT FOR 4 DIMENSIONS problems\n",
    "from matplotlib import pyplot as plt\n",
    "from inversion_fun import Inv_gauss_xy12 as  inv_g\n",
    "from inversion_fun import lumi_formula_no_inner as lumi\n",
    "import random\n",
    "import json\n",
    "import contextlib\n",
    "import matplotlib.cm as cm\n",
    "from matplotlib.gridspec import GridSpec\n",
    "import numpy as np\n",
    "\n",
    "[f,nb,N,energy_tot] = [11245,2736,1.4e11,6800]\n",
    "[dif_mu0x,dif_mu0y] = [0,0]\n",
    "[dif_px,dif_py] = [0,320e-6]#[160e-6,160e-6]\n",
    "[alphax,alphay] = [0,0]\n",
    "[sigmaz] = [0.35]\n",
    "[betax,betay] =[0.3,0.3]\n",
    "[deltap_p0] = [0]\n",
    "[dmu0x,dmu0y] = [0,0]\n",
    "[dpx,dpy] = [0,0]\n",
    "parameters_sym = [f,nb,N,N,energy_tot,energy_tot,dif_mu0x,dif_mu0y,dif_px,dif_py, alphax,alphay,alphax,alphay,sigmaz,sigmaz,\n",
    "            betax,betay,betax,betay,deltap_p0,deltap_p0,dmu0x,dmu0y,-dmu0x,-dmu0y,dpx,dpy,-dpx,-dpy]\n",
    "\n",
    "\n",
    "names = 'mu_cross'\n",
    "folder = '../examples/trees/plots'\n",
    "dict = {'mu0x':[0.01],'mu0y':[0.01],'px':[0.01],'py':[0.01]}\n",
    "titles = r'Reconstruction of target $\\mathbf{\\vec{\\epsilon}}$ by Luminosity, varying separation & crossing angle ($\\mathbf{\\vec{\\mu}}$,$\\mathbf{\\vec{\\theta}})$'\n",
    "titles_iter = r'Reconstruction iterations in order to reach a specific $\\vec{\\epsilon}$, varying $\\mathbf{\\mu}$ & $\\mathbf{\\theta}$'\n",
    "titles_iter_zoom = r'Zoom on reconstruction iterations in order to reach a specific $\\vec{\\epsilon}$, varying $\\mathbf{\\mu}$ & $\\mathbf{\\theta}$'\n",
    "path = f'../examples/trees/tree_noerrxy12/000'\n",
    "js = open(path + '/output_data.json')\n",
    "data_out = json.load(js)\n",
    "\n",
    "frac_int_eps = [[data_out['eps'][ii][jj]/(2.3e-6)-1 for jj in\\\n",
    "                  range(len(data_out['eps'][ii]))] for ii in range(len(data_out['eps']))]\n",
    "frac_init_est_eps = [[data_out['est_eps'][ii][jj]/(2.3e-6)-1 for jj in\\\n",
    "                  range(len(data_out['est_eps'][ii]))] for ii in range(len(data_out['est_eps']))]\n",
    "rel_err_noerrxy12 = [np.linalg.norm([(data_out['eps'][ii][jj]-data_out['est_eps'][ii][jj]) for jj in range(len(data_out['eps'][ii]))])/np.linalg.norm(data_out['eps'][ii]) for ii in range(len(data_out['eps']))]\n",
    "rel_err1_noerrxy12 = [[(data_out['eps'][ii][jj]-data_out['est_eps'][ii][jj])/data_out['eps'][ii][jj] for jj in range(len(data_out['eps'][ii]))] for ii in range(len(data_out['eps']))]\n",
    "for jobs in range(3):\n",
    "    # fig,ax = plt.subplots(1,2,figsize = (20,10))\n",
    "    jobs = jobs\n",
    "\n",
    "    #square definition\n",
    "    x = [-0.2, 0.2, 0.2, -0.2, -0.2]\n",
    "    y = [-0.2, -0.2, 0.2, 0.2, -0.2]\n",
    "\n",
    "    path = f'../examples/trees/tree_noerrxy12/{jobs+1:03}'\n",
    "    js = open(path + '/output_data.json')\n",
    "    data_out = json.load(js)\n",
    "    frac_int_eps = np.concatenate([frac_int_eps,[[data_out['eps'][ii][jj]/(2.3e-6)-1 for jj in\\\n",
    "                  range(len(data_out['eps'][ii]))] for ii in range(len(data_out['eps']))]],axis = 0)\n",
    "    frac_init_est_eps = np.concatenate([frac_init_est_eps,[[data_out['est_eps'][ii][jj]/(2.3e-6)-1 for jj in\\\n",
    "                  range(len(data_out['est_eps'][ii]))] for ii in range(len(data_out['est_eps']))]],axis = 0)\n",
    "\n",
    "    rel_err_noerrxy12 = np.append(rel_err_noerrxy12,[np.linalg.norm([(data_out['eps'][ii][jj]-data_out['est_eps'][ii][jj]) for jj in range(len(data_out['eps'][ii]))])/np.linalg.norm(data_out['eps'][ii]) for ii in range(len(data_out['eps']))])\n",
    "    rel_err1_noerrxy12 = np.append(rel_err1_noerrxy12,[[(data_out['eps'][ii][jj]-data_out['est_eps'][ii][jj])/data_out['eps'][ii][jj] for jj in range(len(data_out['eps'][ii]))] for ii in range(len(data_out['eps']))])\n",
    "    \n",
    "\n",
    "frac_int_eps_x1 = [frac_int_eps[ii][0] for ii in range(len(frac_int_eps))]\n",
    "frac_int_eps_x2 = [frac_int_eps[ii][2] for ii in range(len(frac_int_eps))]\n",
    "frac_int_eps_y1 = [frac_int_eps[ii][1] for ii in range(len(frac_int_eps))]\n",
    "frac_int_eps_y2 = [frac_int_eps[ii][3] for ii in range(len(frac_int_eps))]\n",
    "frac_init_est_eps_x1 = [frac_init_est_eps[ii][0] for ii in range(len(frac_init_est_eps))]\n",
    "frac_init_est_eps_x2 = [frac_init_est_eps[ii][2] for ii in range(len(frac_init_est_eps))]\n",
    "frac_init_est_eps_y1 = [frac_init_est_eps[ii][1] for ii in range(len(frac_init_est_eps))]\n",
    "frac_init_est_eps_y2 = [frac_init_est_eps[ii][3] for ii in range(len(frac_init_est_eps))]\n",
    "\n",
    "    # fig.suptitle(titles[jobs], fontsize=20)\n",
    "\n",
    "    # Plot the square\n",
    "#     ax[0].plot(x, y, linewidth = 4)\n",
    "#     ax[1].plot(x, y, linewidth = 4)\n",
    "\n",
    "#     ax[0].scatter(frac_int_eps_x1[0],frac_int_eps_x2[0],marker   = 'x', c = 'black',s = 100,linewidths=3, label = r'target $\\mathbf{\\vec{\\epsilon}_{x}}$')\n",
    "#     ax[1].scatter(frac_int_eps_y1[0],frac_int_eps_y2[0],marker   = 'x', c = 'black',s = 100,\n",
    "#     linewidths=3, label = r'target $\\mathbf{\\vec{\\epsilon}_{y}})$')\n",
    "#     ax[0].scatter(frac_init_est_eps_x1[0],frac_init_est_eps_x2[0], c = 'orange', s = 30,label = r'estimated $\\mathbf{\\vec{\\epsilon}_{x}}$')\n",
    "#     ax[1].scatter(frac_init_est_eps_y1[0],frac_init_est_eps_y2[0], c = 'orange', s = 30,label = r'estimated $\\mathbf{\\vec{\\epsilon}_{y}}$')\n",
    "#     ax[0].scatter(0,0, c = 'red',s = 40, label = r'intial guess ($\\mathbf{\\vec{\\epsilon}_{x0}}$)')\n",
    "#     ax[1].scatter(0,0, c = 'red',s = 40, label = r'initial guess ($\\mathbf{\\vec{\\epsilon}_{y0}}$')\n",
    "#     ax[0].set_xlabel(r'$\\frac{(\\vec{\\epsilon}_{x})_{1}-(\\vec{\\epsilon}_{x0})_{1}}{(\\vec{\\epsilon}_{x})_{1}}$', fontsize = 20)\n",
    "#     ax[0].set_ylabel(r'$\\frac{(\\vec{\\epsilon}_{x})_{2}-(\\vec{\\epsilon}_{x0})_{2}}{(\\vec{\\epsilon}_{x})_{2}}$', fontsize = 20)\n",
    "#     ax[1].set_xlabel(r'$\\frac{(\\vec{\\epsilon}_{y})_{1}-(\\vec{\\epsilon}_{y0})_{1}}{(\\vec{\\epsilon}_{y})_{1}}$', fontsize = 20)\n",
    "#     ax[1].set_ylabel(r'$\\frac{(\\vec{\\epsilon}_{y})_{2}-(\\vec{\\epsilon}_{y0})_{2}}{(\\vec{\\epsilon}_{y})_{2}}$', fontsize = 20)\n",
    "\n",
    "#     ax[0].legend(fontsize = 20, loc = 'upper right')\n",
    "#     ax[1].legend(fontsize = 20, loc = 'upper right')\n",
    "#     ax[0].set_xlim((-0.25,0.25))\n",
    "#     ax[0].set_ylim((-0.25,0.25))\n",
    "#     ax[1].set_xlim((-0.25,0.25))\n",
    "#     ax[1].set_ylim((-0.25,0.25))\n",
    "#     # fig.savefig(f'{folder}/one_eps/{names[jobs]}_LS.png')\n",
    "\n",
    "# ########## COMPUTATION ITERATIONS\n",
    "\n",
    "#     random.seed(42)\n",
    "#     epsx1 = random.uniform(2.3e-6-4.6e-7,2.3e-6+4.6e-7)\n",
    "#     epsy1 = random.uniform(2.3e-6-4.6e-7,2.3e-6+4.6e-7)\n",
    "#     epsx2 = random.uniform(2.3e-6-4.6e-7,2.3e-6+4.6e-7)\n",
    "#     epsy2 = random.uniform(2.3e-6-4.6e-7,2.3e-6+4.6e-7)\n",
    "#     eps = [epsx1,epsy1,epsx2,epsy2]\n",
    "\n",
    "\n",
    "#     dict_shift = dict[jobs]\n",
    "#     # for j in range(iterations):\n",
    "#     #     print(j)\n",
    "#     with open(f\"output_zoom.txt\",\"w\") as h,contextlib.redirect_stdout(h):\n",
    "#         [est_eps,function, jacobian, time_LS, iterations] = inv_g.inv_gauss_single_par(epsx1,epsy1,epsx2,epsy2,dict_shift, verbose = 2, iteration = 0)\n",
    "\n",
    "\n",
    "\n",
    "\n",
    "#     with open('output_zoom.txt') as f:\n",
    "#         contents = f.read()\n",
    "#     from scipy.stats import gaussian_kde\n",
    "#     fig1,ax1 = plt.subplots(1,2,figsize = (20,10))\n",
    "#     it_norm_x1 = [(eval(ii.split('\\nObjective')[0])[0]/(2.3e-6) -1) for ii in contents.split('=============\\nSolution: ')[1:]]\n",
    "#     it_norm_x2 = [(eval(ii.split('\\nObjective')[0])[2]/(2.3e-6) -1) for ii in contents.split('=============\\nSolution: ')[1:]]\n",
    "#     it_norm_y1 = [(eval(ii.split('\\nObjective')[0])[1]/(2.3e-6) -1) for ii in contents.split('=============\\nSolution: ')[1:]]\n",
    "#     it_norm_y2 = [(eval(ii.split('\\nObjective')[0])[3]/(2.3e-6) -1) for ii in contents.split('=============\\nSolution: ')[1:]]\n",
    "\n",
    "#     cmap = plt.cm.get_cmap('viridis')\n",
    "\n",
    "    \n",
    "#     scatter0 = ax1[0].scatter(it_norm_x1[1:],it_norm_x2[1:],c=np.arange(len(it_norm_x1)-1),cmap = cmap)\n",
    "#     scatter1 = ax1[1].scatter(it_norm_y1[1:],it_norm_y2[1:],c=np.arange(len(it_norm_y1)-1), cmap = cmap)    \n",
    "#     ax1[0].scatter(0,0, c = 'red',s = 40)\n",
    "#     ax1[1].scatter(0,0, c = 'red',s = 40)\n",
    "#     ax1[0].scatter(frac_int_eps_x1[0],frac_int_eps_x2[0],marker   = 'x', c = 'black',s = 100,linewidths=3,zorder = 3)\n",
    "#     ax1[1].scatter(frac_int_eps_y1[0],frac_int_eps_y2[0],marker   = 'x', c = 'black',s = 100,\n",
    "#     linewidths=3)\n",
    "#     fig1.suptitle(titles_iter[jobs], fontsize=20)\n",
    "#     ax1[0].set_xlabel(r'$\\frac{(\\vec{\\epsilon}_{x})_{1}-(\\vec{\\epsilon}_{x0})_{1}}{(\\vec{\\epsilon}_{x})_{1}}$', fontsize = 20)\n",
    "#     ax1[0].set_ylabel(r'$\\frac{(\\vec{\\epsilon}_{x})_{2}-(\\vec{\\epsilon}_{x0})_{2}}{(\\vec{\\epsilon}_{x})_{2}}$', fontsize = 20)\n",
    "#     ax1[1].set_xlabel(r'$\\frac{(\\vec{\\epsilon}_{y})_{1}-(\\vec{\\epsilon}_{y0})_{1}}{(\\vec{\\epsilon}_{y})_{1}}$', fontsize = 20)\n",
    "#     ax1[1].set_ylabel(r'$\\frac{(\\vec{\\epsilon}_{y})_{2}-(\\vec{\\epsilon}_{y0})_{2}}{(\\vec{\\epsilon}_{y})_{2}}$', fontsize = 20)\n",
    "#     ax1[0].set_xlim((-0.25,0.25))\n",
    "#     ax1[0].set_ylim((-0.25,0.25))\n",
    "#     ax1[1].set_xlim((-0.25,0.25))\n",
    "#     ax1[1].set_ylim((-0.25,0.25))\n",
    "#     cbar1 = fig1.colorbar(scatter0, ax=ax1[0])\n",
    "#     cbar2 = fig1.colorbar(scatter1, ax=ax1[1])\n",
    "#     # fig1.savefig(f'{folder}/one_eps/{names[jobs]}_iter_LS.png')\n",
    "\n",
    "# ########################\n",
    "\n",
    "#     fig2,ax2 = plt.subplots(1,2,figsize = (20,10))\n",
    "#     ax2[0].plot(it_norm_x1,it_norm_x2, zorder=1)\n",
    "#     ax2[1].plot(it_norm_y1,it_norm_y2, zorder=1)\n",
    "#     scatter0 = ax2[0].scatter(it_norm_x1[1:],it_norm_x2[1:],c=np.arange(len(it_norm_x1)-1),cmap = cmap, zorder=2)\n",
    "#     scatter1 = ax2[1].scatter(it_norm_y1[1:],it_norm_y2[1:],c=np.arange(len(it_norm_y1)-1), cmap = cmap, zorder=2)    \n",
    "#     ax2[0].scatter(0,0, c = 'red',s = 40)\n",
    "#     ax2[1].scatter(0,0, c = 'red',s = 40)\n",
    "#     ax2[0].scatter(frac_int_eps_x1[0],frac_int_eps_x2[0],marker   = 'x', c = 'black',s = 100,linewidths=3,zorder = 3)\n",
    "#     ax2[1].scatter(frac_int_eps_y1[0],frac_int_eps_y2[0],marker   = 'x', c = 'black',s = 100,linewidths=3,zorder = 3)\n",
    "\n",
    "#     fig2.suptitle(titles_iter_zoom[jobs], fontsize=20)\n",
    "#     ax2[0].set_xlabel(r'$\\frac{(\\vec{\\epsilon}_{x})_{1}-(\\vec{\\epsilon}_{x0})_{1}}{(\\vec{\\epsilon}_{x})_{1}}$', fontsize = 20)\n",
    "#     ax2[0].set_ylabel(r'$\\frac{(\\vec{\\epsilon}_{x})_{2}-(\\vec{\\epsilon}_{x0})_{2}}{(\\vec{\\epsilon}_{x})_{2}}$', fontsize = 20)\n",
    "#     ax2[1].set_xlabel(r'$\\frac{(\\vec{\\epsilon}_{y})_{1}-(\\vec{\\epsilon}_{y0})_{1}}{(\\vec{\\epsilon}_{y})_{1}}$', fontsize = 20)\n",
    "#     ax2[1].set_ylabel(r'$\\frac{(\\vec{\\epsilon}_{y})_{2}-(\\vec{\\epsilon}_{y0})_{2}}{(\\vec{\\epsilon}_{y})_{2}}$', fontsize = 20)\n",
    "    \n",
    "\n",
    "#     cbar1 = fig2.colorbar(scatter0, ax=ax2[0])\n",
    "#     cbar2 = fig2.colorbar(scatter1, ax=ax2[1])\n",
    "#     # fig2.savefig(f'{folder}/one_eps/zoom_{names[jobs]}_iter_LS.png')\n",
    "# ################\n",
    "\n",
    "#     iter_x1 = [eval(ii.split('\\nObjective')[0])[0] for ii in contents.split('=============\\nSolution: ')[1:]]\n",
    "#     iter_x2 = [eval(ii.split('\\nObjective')[0])[2] for ii in contents.split('=============\\nSolution: ')[1:]]\n",
    "#     iter_y1 = [eval(ii.split('\\nObjective')[0])[1] for ii in contents.split('=============\\nSolution: ')[1:]]\n",
    "#     iter_y2 = [eval(ii.split('\\nObjective')[0])[3] for ii in contents.split('=============\\nSolution: ')[1:]]\n",
    "\n",
    "#     L_target = lumi.L(epsx1,epsy1,epsx2,epsy2, *parameters_sym) \n",
    "#     L_iteration = [lumi.L(iter_x1[j],iter_y1[j],iter_x2[j],iter_y2[j], *parameters_sym) for j in range(len(iter_x1))]\n",
    "    \n",
    "#     rel_err_L = [abs(L_target-L_iteration[ii+len(L_iteration)-100])/L_target for ii in range(len(L_iteration)-(len(L_iteration)-100))]\n",
    "    \n",
    "#     fig3,ax3 = plt.subplots(figsize = (20,10))\n",
    "#     fig3.suptitle('Relative error on Luminosity estimation over the last 100 iterations', fontsize=20)\n",
    "#     ax3.plot(np.linspace(len(L_iteration)-100,len(L_iteration)-1,len(L_iteration)-(len(L_iteration)-100)),rel_err_L)\n",
    "#     ax3.set_xlabel('Iterations of Least Squares', fontsize = 20)\n",
    "#     ax3.set_ylabel(r'$\\frac{(\\mathcal{L}_{target}-\\mathcal{L}_{iter})}{\\mathcal{L}_{target}}$', fontsize = 20)\n",
    "#     # fig3.savefig(f'{folder}/one_eps/rel_err_L_{names[jobs]}.png')\n",
    "\n",
    "# #################\n",
    "\n",
    "#     fig4,ax4 = plt.subplots(1,2,figsize = (20,10))\n",
    "#     fig4.suptitle(titles[jobs], fontsize=20)\n",
    "\n",
    "\n",
    "#     # Plot the square\n",
    "#     ax4[0].plot(x, y, linewidth = 4)\n",
    "#     ax4[1].plot(x, y, linewidth = 4)\n",
    "\n",
    "#     ax4[0].scatter(frac_int_eps_x1,frac_int_eps_x2,marker   = 'x', c = 'black',s = 100,linewidths=3, label = r'target $\\mathbf{\\vec{\\epsilon}_{x}}$')\n",
    "#     ax4[1].scatter(frac_int_eps_y1,frac_int_eps_y2,marker   = 'x', c = 'black',s = 100,\n",
    "#     linewidths=3, label = r'target $\\mathbf{\\vec{\\epsilon}_{y}})$')\n",
    "#     ax4[0].scatter(frac_init_est_eps_x1,frac_init_est_eps_x2, c = 'orange', s = 10,label = r'estimated $\\mathbf{\\vec{\\epsilon}_{x}}$')\n",
    "#     ax4[1].scatter(frac_init_est_eps_y1,frac_init_est_eps_y2, c = 'orange', s = 10,label = r'estimated $\\mathbf{\\vec{\\epsilon}_{y}}$')\n",
    "#     ax4[0].scatter(0,0, c = 'red',s = 40, label = r'intial guess ($\\mathbf{\\vec{\\epsilon}_{x0}}$)')\n",
    "#     ax4[1].scatter(0,0, c = 'red',s = 40, label = r'initial guess ($\\mathbf{\\vec{\\epsilon}_{y0}}$')\n",
    "#     ax4[0].set_xlabel(r'$\\frac{(\\vec{\\epsilon}_{x})_{1}-(\\vec{\\epsilon}_{x0})_{1}}{(\\vec{\\epsilon}_{x})_{1}}$', fontsize = 20)\n",
    "#     ax4[0].set_ylabel(r'$\\frac{(\\vec{\\epsilon}_{x})_{2}-(\\vec{\\epsilon}_{x0})_{2}}{(\\vec{\\epsilon}_{x})_{2}}$', fontsize = 20)\n",
    "#     ax4[1].set_xlabel(r'$\\frac{(\\vec{\\epsilon}_{y})_{1}-(\\vec{\\epsilon}_{y0})_{1}}{(\\vec{\\epsilon}_{y})_{1}}$', fontsize = 20)\n",
    "#     ax4[1].set_ylabel(r'$\\frac{(\\vec{\\epsilon}_{y})_{2}-(\\vec{\\epsilon}_{y0})_{2}}{(\\vec{\\epsilon}_{y})_{2}}$', fontsize = 20)\n",
    "\n",
    "#     ax4[0].legend(fontsize = 20, loc = 'upper right')\n",
    "#     ax4[1].legend(fontsize = 20, loc = 'upper right')\n",
    "#     # fig4.savefig(f'{folder}/all_{names[jobs]}_LS.png')"
   ]
  },
  {
   "cell_type": "code",
   "execution_count": 3,
   "metadata": {},
   "outputs": [
    {
     "ename": "AttributeError",
     "evalue": "'list' object has no attribute 'shape'",
     "output_type": "error",
     "traceback": [
      "\u001b[0;31m---------------------------------------------------------------------------\u001b[0m",
      "\u001b[0;31mAttributeError\u001b[0m                            Traceback (most recent call last)",
      "Cell \u001b[0;32mIn[3], line 1\u001b[0m\n\u001b[0;32m----> 1\u001b[0m rel_err1_noerrxy\u001b[39m.\u001b[39mshape()\n",
      "\u001b[0;31mAttributeError\u001b[0m: 'list' object has no attribute 'shape'"
     ]
    }
   ],
   "source": [
    "rel_err1_noerrxy.shape()"
   ]
  },
  {
   "cell_type": "code",
   "execution_count": 4,
   "metadata": {},
   "outputs": [
    {
     "ename": "NameError",
     "evalue": "name 'size' is not defined",
     "output_type": "error",
     "traceback": [
      "\u001b[0;31m---------------------------------------------------------------------------\u001b[0m",
      "\u001b[0;31mNameError\u001b[0m                                 Traceback (most recent call last)",
      "Cell \u001b[0;32mIn[4], line 1\u001b[0m\n\u001b[0;32m----> 1\u001b[0m size(rel_err1_noerrxy)\n",
      "\u001b[0;31mNameError\u001b[0m: name 'size' is not defined"
     ]
    }
   ],
   "source": [
    "size(rel_err1_noerrxy)"
   ]
  },
  {
   "cell_type": "code",
   "execution_count": 5,
   "metadata": {},
   "outputs": [
    {
     "ename": "NameError",
     "evalue": "name 'size' is not defined",
     "output_type": "error",
     "traceback": [
      "\u001b[0;31m---------------------------------------------------------------------------\u001b[0m",
      "\u001b[0;31mNameError\u001b[0m                                 Traceback (most recent call last)",
      "Cell \u001b[0;32mIn[5], line 1\u001b[0m\n\u001b[0;32m----> 1\u001b[0m size(rel_err_noerrxy12)\n",
      "\u001b[0;31mNameError\u001b[0m: name 'size' is not defined"
     ]
    }
   ],
   "source": [
    "size(rel_err_noerrxy12)"
   ]
  },
  {
   "cell_type": "code",
   "execution_count": 6,
   "metadata": {},
   "outputs": [
    {
     "ename": "TypeError",
     "evalue": "'tuple' object is not callable",
     "output_type": "error",
     "traceback": [
      "\u001b[0;31m---------------------------------------------------------------------------\u001b[0m",
      "\u001b[0;31mTypeError\u001b[0m                                 Traceback (most recent call last)",
      "Cell \u001b[0;32mIn[6], line 1\u001b[0m\n\u001b[0;32m----> 1\u001b[0m rel_err_noerrxy12\u001b[39m.\u001b[39mshape()\n",
      "\u001b[0;31mTypeError\u001b[0m: 'tuple' object is not callable"
     ]
    }
   ],
   "source": [
    "rel_err_noerrxy12.shape()"
   ]
  },
  {
   "cell_type": "code",
   "execution_count": 7,
   "metadata": {},
   "outputs": [
    {
     "data": {
      "text/plain": [
       "dtype('float64')"
      ]
     },
     "execution_count": 7,
     "metadata": {},
     "output_type": "execute_result"
    }
   ],
   "source": [
    "frac_init_est_eps.dtype"
   ]
  },
  {
   "cell_type": "code",
   "execution_count": 8,
   "metadata": {},
   "outputs": [
    {
     "ename": "AttributeError",
     "evalue": "'numpy.ndarray' object has no attribute 'type'",
     "output_type": "error",
     "traceback": [
      "\u001b[0;31m---------------------------------------------------------------------------\u001b[0m",
      "\u001b[0;31mAttributeError\u001b[0m                            Traceback (most recent call last)",
      "Cell \u001b[0;32mIn[8], line 1\u001b[0m\n\u001b[0;32m----> 1\u001b[0m frac_init_est_eps\u001b[39m.\u001b[39mtype\n",
      "\u001b[0;31mAttributeError\u001b[0m: 'numpy.ndarray' object has no attribute 'type'"
     ]
    }
   ],
   "source": [
    "frac_init_est_eps.type"
   ]
  },
  {
   "cell_type": "code",
   "execution_count": 9,
   "metadata": {},
   "outputs": [
    {
     "ename": "TypeError",
     "evalue": "'tuple' object is not callable",
     "output_type": "error",
     "traceback": [
      "\u001b[0;31m---------------------------------------------------------------------------\u001b[0m",
      "\u001b[0;31mTypeError\u001b[0m                                 Traceback (most recent call last)",
      "Cell \u001b[0;32mIn[9], line 1\u001b[0m\n\u001b[0;32m----> 1\u001b[0m frac_init_est_eps\u001b[39m.\u001b[39mshape()\n",
      "\u001b[0;31mTypeError\u001b[0m: 'tuple' object is not callable"
     ]
    }
   ],
   "source": [
    "frac_init_est_eps.shape()"
   ]
  },
  {
   "cell_type": "code",
   "execution_count": 10,
   "metadata": {},
   "outputs": [
    {
     "data": {
      "text/plain": [
       "(1600, 4)"
      ]
     },
     "execution_count": 10,
     "metadata": {},
     "output_type": "execute_result"
    }
   ],
   "source": [
    "frac_init_est_eps.shape"
   ]
  },
  {
   "cell_type": "code",
   "execution_count": 11,
   "metadata": {},
   "outputs": [
    {
     "data": {
      "text/plain": [
       "(1600,)"
      ]
     },
     "execution_count": 11,
     "metadata": {},
     "output_type": "execute_result"
    }
   ],
   "source": [
    "rel_err_noerrxy12.shape"
   ]
  },
  {
   "cell_type": "code",
   "execution_count": 12,
   "metadata": {},
   "outputs": [
    {
     "data": {
      "text/plain": [
       "(6400,)"
      ]
     },
     "execution_count": 12,
     "metadata": {},
     "output_type": "execute_result"
    }
   ],
   "source": [
    "rel_err1_noerrxy12.shape"
   ]
  },
  {
   "cell_type": "markdown",
   "metadata": {
    "isInteractiveWindowMessageCell": true
   },
   "source": [
    "Connected to mruf_env (Python 3.12.1)"
   ]
  },
  {
   "cell_type": "code",
   "execution_count": 1,
   "metadata": {},
   "outputs": [
    {
     "name": "stdout",
     "output_type": "stream",
     "text": [
      "numbu\n"
     ]
    },
    {
     "ename": "FileNotFoundError",
     "evalue": "[Errno 2] No such file or directory: '../examples/trees/tree_noerrxy12/000/output_data.json'",
     "output_type": "error",
     "traceback": [
      "\u001b[0;31m---------------------------------------------------------------------------\u001b[0m",
      "\u001b[0;31mFileNotFoundError\u001b[0m                         Traceback (most recent call last)",
      "\u001b[1;32m/home/mrufolo/storage/NumericalLumiInversion/inv_gauss_tree_maker/003_post_process.py\u001b[0m in \u001b[0;36mline 33\n\u001b[1;32m     <a href='file:///home/mrufolo/storage/NumericalLumiInversion/inv_gauss_tree_maker/003_post_process.py?line=155'>156</a>\u001b[0m titles_iter_zoom \u001b[39m=\u001b[39m \u001b[39mr\u001b[39m\u001b[39m'\u001b[39m\u001b[39mZoom on reconstruction iterations in order to reach a specific $\u001b[39m\u001b[39m\\\u001b[39m\u001b[39mvec\u001b[39m\u001b[39m{\u001b[39m\u001b[39m\\\u001b[39m\u001b[39mepsilon}$, varying $\u001b[39m\u001b[39m\\\u001b[39m\u001b[39mmathbf\u001b[39m\u001b[39m{\u001b[39m\u001b[39m\\\u001b[39m\u001b[39mmu}$ & $\u001b[39m\u001b[39m\\\u001b[39m\u001b[39mmathbf\u001b[39m\u001b[39m{\u001b[39m\u001b[39m\\\u001b[39m\u001b[39mtheta}$\u001b[39m\u001b[39m'\u001b[39m\n\u001b[1;32m     <a href='file:///home/mrufolo/storage/NumericalLumiInversion/inv_gauss_tree_maker/003_post_process.py?line=156'>157</a>\u001b[0m path \u001b[39m=\u001b[39m \u001b[39mf\u001b[39m\u001b[39m'\u001b[39m\u001b[39m../examples/trees/tree_noerrxy12/000\u001b[39m\u001b[39m'\u001b[39m\n\u001b[0;32m---> <a href='file:///home/mrufolo/storage/NumericalLumiInversion/inv_gauss_tree_maker/003_post_process.py?line=157'>158</a>\u001b[0m js \u001b[39m=\u001b[39m \u001b[39mopen\u001b[39m(path \u001b[39m+\u001b[39m \u001b[39m'\u001b[39m\u001b[39m/output_data.json\u001b[39m\u001b[39m'\u001b[39m)\n\u001b[1;32m     <a href='file:///home/mrufolo/storage/NumericalLumiInversion/inv_gauss_tree_maker/003_post_process.py?line=158'>159</a>\u001b[0m data_out \u001b[39m=\u001b[39m json\u001b[39m.\u001b[39mload(js)\n\u001b[1;32m     <a href='file:///home/mrufolo/storage/NumericalLumiInversion/inv_gauss_tree_maker/003_post_process.py?line=160'>161</a>\u001b[0m frac_int_eps \u001b[39m=\u001b[39m [[data_out[\u001b[39m'\u001b[39m\u001b[39meps\u001b[39m\u001b[39m'\u001b[39m][ii][jj]\u001b[39m/\u001b[39m(\u001b[39m2.3e-6\u001b[39m)\u001b[39m-\u001b[39m\u001b[39m1\u001b[39m \u001b[39mfor\u001b[39;00m jj \u001b[39min\u001b[39;00m\\\n\u001b[1;32m     <a href='file:///home/mrufolo/storage/NumericalLumiInversion/inv_gauss_tree_maker/003_post_process.py?line=161'>162</a>\u001b[0m                   \u001b[39mrange\u001b[39m(\u001b[39mlen\u001b[39m(data_out[\u001b[39m'\u001b[39m\u001b[39meps\u001b[39m\u001b[39m'\u001b[39m][ii]))] \u001b[39mfor\u001b[39;00m ii \u001b[39min\u001b[39;00m \u001b[39mrange\u001b[39m(\u001b[39mlen\u001b[39m(data_out[\u001b[39m'\u001b[39m\u001b[39meps\u001b[39m\u001b[39m'\u001b[39m]))]\n",
      "File \u001b[0;32m~/.conda/envs/mruf_env/lib/python3.12/site-packages/IPython/core/interactiveshell.py:310\u001b[0m, in \u001b[0;36m_modified_open\u001b[0;34m(file, *args, **kwargs)\u001b[0m\n\u001b[1;32m    <a href='file:///home/mrufolo/.conda/envs/mruf_env/lib/python3.12/site-packages/IPython/core/interactiveshell.py?line=302'>303</a>\u001b[0m \u001b[39mif\u001b[39;00m file \u001b[39min\u001b[39;00m {\u001b[39m0\u001b[39m, \u001b[39m1\u001b[39m, \u001b[39m2\u001b[39m}:\n\u001b[1;32m    <a href='file:///home/mrufolo/.conda/envs/mruf_env/lib/python3.12/site-packages/IPython/core/interactiveshell.py?line=303'>304</a>\u001b[0m     \u001b[39mraise\u001b[39;00m \u001b[39mValueError\u001b[39;00m(\n\u001b[1;32m    <a href='file:///home/mrufolo/.conda/envs/mruf_env/lib/python3.12/site-packages/IPython/core/interactiveshell.py?line=304'>305</a>\u001b[0m         \u001b[39mf\u001b[39m\u001b[39m\"\u001b[39m\u001b[39mIPython won\u001b[39m\u001b[39m'\u001b[39m\u001b[39mt let you open fd=\u001b[39m\u001b[39m{\u001b[39;00mfile\u001b[39m}\u001b[39;00m\u001b[39m by default \u001b[39m\u001b[39m\"\u001b[39m\n\u001b[1;32m    <a href='file:///home/mrufolo/.conda/envs/mruf_env/lib/python3.12/site-packages/IPython/core/interactiveshell.py?line=305'>306</a>\u001b[0m         \u001b[39m\"\u001b[39m\u001b[39mas it is likely to crash IPython. If you know what you are doing, \u001b[39m\u001b[39m\"\u001b[39m\n\u001b[1;32m    <a href='file:///home/mrufolo/.conda/envs/mruf_env/lib/python3.12/site-packages/IPython/core/interactiveshell.py?line=306'>307</a>\u001b[0m         \u001b[39m\"\u001b[39m\u001b[39myou can use builtins\u001b[39m\u001b[39m'\u001b[39m\u001b[39m open.\u001b[39m\u001b[39m\"\u001b[39m\n\u001b[1;32m    <a href='file:///home/mrufolo/.conda/envs/mruf_env/lib/python3.12/site-packages/IPython/core/interactiveshell.py?line=307'>308</a>\u001b[0m     )\n\u001b[0;32m--> <a href='file:///home/mrufolo/.conda/envs/mruf_env/lib/python3.12/site-packages/IPython/core/interactiveshell.py?line=309'>310</a>\u001b[0m \u001b[39mreturn\u001b[39;00m io_open(file, \u001b[39m*\u001b[39margs, \u001b[39m*\u001b[39m\u001b[39m*\u001b[39mkwargs)\n",
      "\u001b[0;31mFileNotFoundError\u001b[0m: [Errno 2] No such file or directory: '../examples/trees/tree_noerrxy12/000/output_data.json'"
     ]
    }
   ],
   "source": [
    "#TREES PLOT FOR 4 DIMENSIONS problems\n",
    "from matplotlib import pyplot as plt\n",
    "from inversion_fun import Inv_gauss_xy12 as  inv_g\n",
    "from inversion_fun import lumi_formula_no_inner as lumi\n",
    "import random\n",
    "import json\n",
    "import contextlib\n",
    "import matplotlib.cm as cm\n",
    "from matplotlib.gridspec import GridSpec\n",
    "import numpy as np\n",
    "\n",
    "[f,nb,N,energy_tot] = [11245,2736,1.4e11,6800]\n",
    "[dif_mu0x,dif_mu0y] = [0,0]\n",
    "[dif_px,dif_py] = [0,320e-6]#[160e-6,160e-6]\n",
    "[alphax,alphay] = [0,0]\n",
    "[sigmaz] = [0.35]\n",
    "[betax,betay] =[0.3,0.3]\n",
    "[deltap_p0] = [0]\n",
    "[dmu0x,dmu0y] = [0,0]\n",
    "[dpx,dpy] = [0,0]\n",
    "parameters_sym = [f,nb,N,N,energy_tot,energy_tot,dif_mu0x,dif_mu0y,dif_px,dif_py, alphax,alphay,alphax,alphay,sigmaz,sigmaz,\n",
    "            betax,betay,betax,betay,deltap_p0,deltap_p0,dmu0x,dmu0y,-dmu0x,-dmu0y,dpx,dpy,-dpx,-dpy]\n",
    "\n",
    "\n",
    "names = 'mu_cross'\n",
    "folder = '../examples/trees/plots'\n",
    "dict = {'mu0x':[0.01],'mu0y':[0.01],'px':[0.01],'py':[0.01]}\n",
    "title = r'Reconstruction of target $\\mathbf{\\vec{\\epsilon}}$ by Luminosity, varying separation & crossing angle ($\\mathbf{\\vec{\\mu}}$,$\\mathbf{\\vec{\\theta}})$'\n",
    "titles_iter = r'Reconstruction iterations in order to reach a specific $\\vec{\\epsilon}$, varying $\\mathbf{\\mu}$ & $\\mathbf{\\theta}$'\n",
    "titles_iter_zoom = r'Zoom on reconstruction iterations in order to reach a specific $\\vec{\\epsilon}$, varying $\\mathbf{\\mu}$ & $\\mathbf{\\theta}$'\n",
    "path = f'../examples/trees/tree_noerrxy12/000'\n",
    "js = open(path + '/output_data.json')\n",
    "data_out = json.load(js)\n",
    "\n",
    "frac_int_eps = [[data_out['eps'][ii][jj]/(2.3e-6)-1 for jj in\\\n",
    "                  range(len(data_out['eps'][ii]))] for ii in range(len(data_out['eps']))]\n",
    "frac_init_est_eps = [[data_out['est_eps'][ii][jj]/(2.3e-6)-1 for jj in\\\n",
    "                  range(len(data_out['est_eps'][ii]))] for ii in range(len(data_out['est_eps']))]\n",
    "rel_err_noerrxy12 = [np.linalg.norm([(data_out['eps'][ii][jj]-data_out['est_eps'][ii][jj]) for jj in range(len(data_out['eps'][ii]))])/np.linalg.norm(data_out['eps'][ii]) for ii in range(len(data_out['eps']))]\n",
    "rel_err1_noerrxy12 = [[(data_out['eps'][ii][jj]-data_out['est_eps'][ii][jj])/data_out['eps'][ii][jj] for jj in range(len(data_out['eps'][ii]))] for ii in range(len(data_out['eps']))]\n",
    "for jobs in range(3):\n",
    "    fig,ax = plt.subplots(1,2,figsize = (20,10))\n",
    "    jobs = jobs\n",
    "\n",
    "    #square definition\n",
    "\n",
    "\n",
    "    path = f'../examples/trees/tree_noerrxy12/{jobs+1:03}'\n",
    "    js = open(path + '/output_data.json')\n",
    "    data_out = json.load(js)\n",
    "    frac_int_eps = np.concatenate([frac_int_eps,[[data_out['eps'][ii][jj]/(2.3e-6)-1 for jj in\\\n",
    "                  range(len(data_out['eps'][ii]))] for ii in range(len(data_out['eps']))]],axis = 0)\n",
    "    frac_init_est_eps = np.concatenate([frac_init_est_eps,[[data_out['est_eps'][ii][jj]/(2.3e-6)-1 for jj in\\\n",
    "                  range(len(data_out['est_eps'][ii]))] for ii in range(len(data_out['est_eps']))]],axis = 0)\n",
    "\n",
    "    rel_err_noerrxy12 = np.append(rel_err_noerrxy12,[np.linalg.norm([(data_out['eps'][ii][jj]-data_out['est_eps'][ii][jj]) for jj in range(len(data_out['eps'][ii]))])/np.linalg.norm(data_out['eps'][ii]) for ii in range(len(data_out['eps']))])\n",
    "    rel_err1_noerrxy12 = np.append(rel_err1_noerrxy12,[[(data_out['eps'][ii][jj]-data_out['est_eps'][ii][jj])/data_out['eps'][ii][jj] for jj in range(len(data_out['eps'][ii]))] for ii in range(len(data_out['eps']))])\n",
    "    \n",
    "\n",
    "frac_int_eps_x1 = [frac_int_eps[ii][0] for ii in range(len(frac_int_eps))]\n",
    "frac_int_eps_x2 = [frac_int_eps[ii][2] for ii in range(len(frac_int_eps))]\n",
    "frac_int_eps_y1 = [frac_int_eps[ii][1] for ii in range(len(frac_int_eps))]\n",
    "frac_int_eps_y2 = [frac_int_eps[ii][3] for ii in range(len(frac_int_eps))]\n",
    "frac_init_est_eps_x1 = [frac_init_est_eps[ii][0] for ii in range(len(frac_init_est_eps))]\n",
    "frac_init_est_eps_x2 = [frac_init_est_eps[ii][2] for ii in range(len(frac_init_est_eps))]\n",
    "frac_init_est_eps_y1 = [frac_init_est_eps[ii][1] for ii in range(len(frac_init_est_eps))]\n",
    "frac_init_est_eps_y2 = [frac_init_est_eps[ii][3] for ii in range(len(frac_init_est_eps))]\n",
    "\n",
    "\n",
    "fig,ax = plt.subplots(1,2,figsize = (20,10))\n",
    "fig.suptitle(title, fontsize=20)\n",
    "x = [-0.2, 0.2, 0.2, -0.2, -0.2]\n",
    "y = [-0.2, -0.2, 0.2, 0.2, -0.2]\n",
    "ax[0].plot(x, y, linewidth = 4)\n",
    "ax[1].plot(x, y, linewidth = 4)\n",
    "ax[0].scatter(frac_int_eps_x1[0],frac_int_eps_x2[0],marker   = 'x', c = 'black',s = 100,linewidths=3, label = r'target $\\mathbf{\\vec{\\epsilon}_{x}}$')\n",
    "    \n",
    "ax[1].scatter(frac_int_eps_y1[0],frac_int_eps_y2[0],marker   = 'x', c = 'black',s = 100,\n",
    "linewidths=3, label = r'target $\\mathbf{\\vec{\\epsilon}_{y}})$')\n",
    "ax[0].scatter(frac_init_est_eps_x1[0],frac_init_est_eps_x2[0], c = 'orange', s = 30,label = r'estimated $\\mathbf{\\vec{\\epsilon}_{x}}$')\n",
    "ax[1].scatter(frac_init_est_eps_y1[0],frac_init_est_eps_y2[0], c = 'orange', s = 30,label = r'estimated $\\mathbf{\\vec{\\epsilon}_{y}}$')\n",
    "ax[0].scatter(0,0, c = 'red',s = 40, label = r'intial guess ($\\mathbf{\\vec{\\epsilon}_{x0}}$)')\n",
    "ax[1].scatter(0,0, c = 'red',s = 40, label = r'initial guess ($\\mathbf{\\vec{\\epsilon}_{y0}}$')\n",
    "ax[0].set_xlabel(r'$\\frac{(\\vec{\\epsilon}_{x})_{1}-(\\vec{\\epsilon}_{x0})_{1}}{(\\vec{\\epsilon}_{x})_{1}}$', fontsize = 20)\n",
    "ax[0].set_ylabel(r'$\\frac{(\\vec{\\epsilon}_{x})_{2}-(\\vec{\\epsilon}_{x0})_{2}}{(\\vec{\\epsilon}_{x})_{2}}$', fontsize = 20)\n",
    "ax[1].set_xlabel(r'$\\frac{(\\vec{\\epsilon}_{y})_{1}-(\\vec{\\epsilon}_{y0})_{1}}{(\\vec{\\epsilon}_{y})_{1}}$', fontsize = 20)\n",
    "ax[1].set_ylabel(r'$\\frac{(\\vec{\\epsilon}_{y})_{2}-(\\vec{\\epsilon}_{y0})_{2}}{(\\vec{\\epsilon}_{y})_{2}}$', fontsize = 20)\n",
    "\n",
    "ax[0].legend(fontsize = 20, loc = 'upper right')\n",
    "ax[1].legend(fontsize = 20, loc = 'upper right')\n",
    "ax[0].set_xlim((-0.25,0.25))\n",
    "ax[0].set_ylim((-0.25,0.25))\n",
    "ax[1].set_xlim((-0.25,0.25))\n",
    "ax[1].set_ylim((-0.25,0.25))\n",
    "# fig.savefig(f'{folder}/one_eps/{names[jobs]}_LS.png')\n",
    "\n",
    "# ########## COMPUTATION ITERATIONS\n",
    "\n",
    "random.seed(42)\n",
    "epsx1 = random.uniform(2.3e-6-4.6e-7,2.3e-6+4.6e-7)\n",
    "epsy1 = random.uniform(2.3e-6-4.6e-7,2.3e-6+4.6e-7)\n",
    "epsx2 = random.uniform(2.3e-6-4.6e-7,2.3e-6+4.6e-7)\n",
    "epsy2 = random.uniform(2.3e-6-4.6e-7,2.3e-6+4.6e-7)\n",
    "eps = [epsx1,epsy1,epsx2,epsy2]\n",
    "\n",
    "\n",
    "dict_shift = dict[jobs]\n",
    "# for j in range(iterations):\n",
    "#     print(j)\n",
    "with open(f\"output_zoom.txt\",\"w\") as h,contextlib.redirect_stdout(h):\n",
    "    [est_eps,function, jacobian, time_LS, iterations] = inv_g.inv_gauss_single_par(epsx1,epsy1,epsx2,epsy2,dict_shift, verbose = 2, iteration = 0)\n",
    "\n",
    "\n",
    "\n",
    "\n",
    "with open('output_zoom.txt') as f:\n",
    "    contents = f.read()\n",
    "from scipy.stats import gaussian_kde\n",
    "fig1,ax1 = plt.subplots(1,2,figsize = (20,10))\n",
    "it_norm_x1 = [(eval(ii.split('\\nObjective')[0])[0]/(2.3e-6) -1) for ii in contents.split('=============\\nSolution: ')[1:]]\n",
    "it_norm_x2 = [(eval(ii.split('\\nObjective')[0])[2]/(2.3e-6) -1) for ii in contents.split('=============\\nSolution: ')[1:]]\n",
    "it_norm_y1 = [(eval(ii.split('\\nObjective')[0])[1]/(2.3e-6) -1) for ii in contents.split('=============\\nSolution: ')[1:]]\n",
    "it_norm_y2 = [(eval(ii.split('\\nObjective')[0])[3]/(2.3e-6) -1) for ii in contents.split('=============\\nSolution: ')[1:]]\n",
    "\n",
    "cmap = plt.cm.get_cmap('viridis')\n",
    "\n",
    "\n",
    "scatter0 = ax1[0].scatter(it_norm_x1[1:],it_norm_x2[1:],c=np.arange(len(it_norm_x1)-1),cmap = cmap)\n",
    "scatter1 = ax1[1].scatter(it_norm_y1[1:],it_norm_y2[1:],c=np.arange(len(it_norm_y1)-1), cmap = cmap)    \n",
    "ax1[0].scatter(0,0, c = 'red',s = 40)\n",
    "ax1[1].scatter(0,0, c = 'red',s = 40)\n",
    "ax1[0].scatter(frac_int_eps_x1[0],frac_int_eps_x2[0],marker   = 'x', c = 'black',s = 100,linewidths=3,zorder = 3)\n",
    "ax1[1].scatter(frac_int_eps_y1[0],frac_int_eps_y2[0],marker   = 'x', c = 'black',s = 100,\n",
    "linewidths=3)\n",
    "fig1.suptitle(titles_iter[jobs], fontsize=20)\n",
    "ax1[0].set_xlabel(r'$\\frac{(\\vec{\\epsilon}_{x})_{1}-(\\vec{\\epsilon}_{x0})_{1}}{(\\vec{\\epsilon}_{x})_{1}}$', fontsize = 20)\n",
    "ax1[0].set_ylabel(r'$\\frac{(\\vec{\\epsilon}_{x})_{2}-(\\vec{\\epsilon}_{x0})_{2}}{(\\vec{\\epsilon}_{x})_{2}}$', fontsize = 20)\n",
    "ax1[1].set_xlabel(r'$\\frac{(\\vec{\\epsilon}_{y})_{1}-(\\vec{\\epsilon}_{y0})_{1}}{(\\vec{\\epsilon}_{y})_{1}}$', fontsize = 20)\n",
    "ax1[1].set_ylabel(r'$\\frac{(\\vec{\\epsilon}_{y})_{2}-(\\vec{\\epsilon}_{y0})_{2}}{(\\vec{\\epsilon}_{y})_{2}}$', fontsize = 20)\n",
    "ax1[0].set_xlim((-0.25,0.25))\n",
    "ax1[0].set_ylim((-0.25,0.25))\n",
    "ax1[1].set_xlim((-0.25,0.25))\n",
    "ax1[1].set_ylim((-0.25,0.25))\n",
    "cbar1 = fig1.colorbar(scatter0, ax=ax1[0])\n",
    "cbar2 = fig1.colorbar(scatter1, ax=ax1[1])\n",
    "# fig1.savefig(f'{folder}/one_eps/{names[jobs]}_iter_LS.png')\n",
    "\n",
    "# ########################\n",
    "\n",
    "fig2,ax2 = plt.subplots(1,2,figsize = (20,10))\n",
    "ax2[0].plot(it_norm_x1,it_norm_x2, zorder=1)\n",
    "ax2[1].plot(it_norm_y1,it_norm_y2, zorder=1)\n",
    "scatter0 = ax2[0].scatter(it_norm_x1[1:],it_norm_x2[1:],c=np.arange(len(it_norm_x1)-1),cmap = cmap, zorder=2)\n",
    "scatter1 = ax2[1].scatter(it_norm_y1[1:],it_norm_y2[1:],c=np.arange(len(it_norm_y1)-1), cmap = cmap, zorder=2)    \n",
    "ax2[0].scatter(0,0, c = 'red',s = 40)\n",
    "ax2[1].scatter(0,0, c = 'red',s = 40)\n",
    "ax2[0].scatter(frac_int_eps_x1[0],frac_int_eps_x2[0],marker   = 'x', c = 'black',s = 100,linewidths=3,zorder = 3)\n",
    "ax2[1].scatter(frac_int_eps_y1[0],frac_int_eps_y2[0],marker   = 'x', c = 'black',s = 100,linewidths=3,zorder = 3)\n",
    "\n",
    "fig2.suptitle(titles_iter_zoom[jobs], fontsize=20)\n",
    "ax2[0].set_xlabel(r'$\\frac{(\\vec{\\epsilon}_{x})_{1}-(\\vec{\\epsilon}_{x0})_{1}}{(\\vec{\\epsilon}_{x})_{1}}$', fontsize = 20)\n",
    "ax2[0].set_ylabel(r'$\\frac{(\\vec{\\epsilon}_{x})_{2}-(\\vec{\\epsilon}_{x0})_{2}}{(\\vec{\\epsilon}_{x})_{2}}$', fontsize = 20)\n",
    "ax2[1].set_xlabel(r'$\\frac{(\\vec{\\epsilon}_{y})_{1}-(\\vec{\\epsilon}_{y0})_{1}}{(\\vec{\\epsilon}_{y})_{1}}$', fontsize = 20)\n",
    "ax2[1].set_ylabel(r'$\\frac{(\\vec{\\epsilon}_{y})_{2}-(\\vec{\\epsilon}_{y0})_{2}}{(\\vec{\\epsilon}_{y})_{2}}$', fontsize = 20)\n",
    "\n",
    "\n",
    "cbar1 = fig2.colorbar(scatter0, ax=ax2[0])\n",
    "cbar2 = fig2.colorbar(scatter1, ax=ax2[1])\n",
    "# fig2.savefig(f'{folder}/one_eps/zoom_{names[jobs]}_iter_LS.png')\n",
    "# ################\n",
    "\n",
    "iter_x1 = [eval(ii.split('\\nObjective')[0])[0] for ii in contents.split('=============\\nSolution: ')[1:]]\n",
    "iter_x2 = [eval(ii.split('\\nObjective')[0])[2] for ii in contents.split('=============\\nSolution: ')[1:]]\n",
    "iter_y1 = [eval(ii.split('\\nObjective')[0])[1] for ii in contents.split('=============\\nSolution: ')[1:]]\n",
    "iter_y2 = [eval(ii.split('\\nObjective')[0])[3] for ii in contents.split('=============\\nSolution: ')[1:]]\n",
    "\n",
    "L_target = lumi.L(epsx1,epsy1,epsx2,epsy2, *parameters_sym) \n",
    "L_iteration = [lumi.L(iter_x1[j],iter_y1[j],iter_x2[j],iter_y2[j], *parameters_sym) for j in range(len(iter_x1))]\n",
    "\n",
    "rel_err_L = [abs(L_target-L_iteration[ii+len(L_iteration)-100])/L_target for ii in range(len(L_iteration)-(len(L_iteration)-100))]\n",
    "\n",
    "fig3,ax3 = plt.subplots(figsize = (20,10))\n",
    "fig3.suptitle('Relative error on Luminosity estimation over the last 100 iterations', fontsize=20)\n",
    "ax3.plot(np.linspace(len(L_iteration)-100,len(L_iteration)-1,len(L_iteration)-(len(L_iteration)-100)),rel_err_L)\n",
    "ax3.set_xlabel('Iterations of Least Squares', fontsize = 20)\n",
    "ax3.set_ylabel(r'$\\frac{(\\mathcal{L}_{target}-\\mathcal{L}_{iter})}{\\mathcal{L}_{target}}$', fontsize = 20)\n",
    "# fig3.savefig(f'{folder}/one_eps/rel_err_L_{names[jobs]}.png')\n",
    "\n",
    "# #################\n",
    "\n",
    "fig4,ax4 = plt.subplots(1,2,figsize = (20,10))\n",
    "fig4.suptitle(titles[jobs], fontsize=20)\n",
    "\n",
    "\n",
    "# Plot the square\n",
    "ax4[0].plot(x, y, linewidth = 4)\n",
    "ax4[1].plot(x, y, linewidth = 4)\n",
    "\n",
    "ax4[0].scatter(frac_int_eps_x1,frac_int_eps_x2,marker   = 'x', c = 'black',s = 100,linewidths=3, label = r'target $\\mathbf{\\vec{\\epsilon}_{x}}$')\n",
    "ax4[1].scatter(frac_int_eps_y1,frac_int_eps_y2,marker   = 'x', c = 'black',s = 100,\n",
    "linewidths=3, label = r'target $\\mathbf{\\vec{\\epsilon}_{y}})$')\n",
    "ax4[0].scatter(frac_init_est_eps_x1,frac_init_est_eps_x2, c = 'orange', s = 10,label = r'estimated $\\mathbf{\\vec{\\epsilon}_{x}}$')\n",
    "ax4[1].scatter(frac_init_est_eps_y1,frac_init_est_eps_y2, c = 'orange', s = 10,label = r'estimated $\\mathbf{\\vec{\\epsilon}_{y}}$')\n",
    "ax4[0].scatter(0,0, c = 'red',s = 40, label = r'intial guess ($\\mathbf{\\vec{\\epsilon}_{x0}}$)')\n",
    "ax4[1].scatter(0,0, c = 'red',s = 40, label = r'initial guess ($\\mathbf{\\vec{\\epsilon}_{y0}}$')\n",
    "ax4[0].set_xlabel(r'$\\frac{(\\vec{\\epsilon}_{x})_{1}-(\\vec{\\epsilon}_{x0})_{1}}{(\\vec{\\epsilon}_{x})_{1}}$', fontsize = 20)\n",
    "ax4[0].set_ylabel(r'$\\frac{(\\vec{\\epsilon}_{x})_{2}-(\\vec{\\epsilon}_{x0})_{2}}{(\\vec{\\epsilon}_{x})_{2}}$', fontsize = 20)\n",
    "ax4[1].set_xlabel(r'$\\frac{(\\vec{\\epsilon}_{y})_{1}-(\\vec{\\epsilon}_{y0})_{1}}{(\\vec{\\epsilon}_{y})_{1}}$', fontsize = 20)\n",
    "ax4[1].set_ylabel(r'$\\frac{(\\vec{\\epsilon}_{y})_{2}-(\\vec{\\epsilon}_{y0})_{2}}{(\\vec{\\epsilon}_{y})_{2}}$', fontsize = 20)\n",
    "\n",
    "ax4[0].legend(fontsize = 20, loc = 'upper right')\n",
    "ax4[1].legend(fontsize = 20, loc = 'upper right')\n",
    "# fig4.savefig(f'{folder}/all_{names[jobs]}_LS.png')"
   ]
  },
  {
   "cell_type": "code",
   "execution_count": 2,
   "metadata": {},
   "outputs": [
    {
     "data": {
      "text/plain": [
       "'/var/data/mrufolo/NumericalLumiInversion/inv_gauss_tree_maker'"
      ]
     },
     "execution_count": 2,
     "metadata": {},
     "output_type": "execute_result"
    }
   ],
   "source": [
    "import os \n",
    "os.getcwd()"
   ]
  },
  {
   "cell_type": "code",
   "execution_count": 3,
   "metadata": {},
   "outputs": [
    {
     "ename": "FileNotFoundError",
     "evalue": "[Errno 2] No such file or directory: '../examples/trees/tree_noerrxy12/000/output_data.json'",
     "output_type": "error",
     "traceback": [
      "\u001b[0;31m---------------------------------------------------------------------------\u001b[0m",
      "\u001b[0;31mFileNotFoundError\u001b[0m                         Traceback (most recent call last)",
      "Cell \u001b[0;32mIn[3], line 1\u001b[0m\n\u001b[0;32m----> 1\u001b[0m \u001b[39mopen\u001b[39m(path \u001b[39m+\u001b[39m \u001b[39m'\u001b[39m\u001b[39m/output_data.json\u001b[39m\u001b[39m'\u001b[39m)\n",
      "File \u001b[0;32m~/.conda/envs/mruf_env/lib/python3.12/site-packages/IPython/core/interactiveshell.py:310\u001b[0m, in \u001b[0;36m_modified_open\u001b[0;34m(file, *args, **kwargs)\u001b[0m\n\u001b[1;32m    <a href='file:///home/mrufolo/.conda/envs/mruf_env/lib/python3.12/site-packages/IPython/core/interactiveshell.py?line=302'>303</a>\u001b[0m \u001b[39mif\u001b[39;00m file \u001b[39min\u001b[39;00m {\u001b[39m0\u001b[39m, \u001b[39m1\u001b[39m, \u001b[39m2\u001b[39m}:\n\u001b[1;32m    <a href='file:///home/mrufolo/.conda/envs/mruf_env/lib/python3.12/site-packages/IPython/core/interactiveshell.py?line=303'>304</a>\u001b[0m     \u001b[39mraise\u001b[39;00m \u001b[39mValueError\u001b[39;00m(\n\u001b[1;32m    <a href='file:///home/mrufolo/.conda/envs/mruf_env/lib/python3.12/site-packages/IPython/core/interactiveshell.py?line=304'>305</a>\u001b[0m         \u001b[39mf\u001b[39m\u001b[39m\"\u001b[39m\u001b[39mIPython won\u001b[39m\u001b[39m'\u001b[39m\u001b[39mt let you open fd=\u001b[39m\u001b[39m{\u001b[39;00mfile\u001b[39m}\u001b[39;00m\u001b[39m by default \u001b[39m\u001b[39m\"\u001b[39m\n\u001b[1;32m    <a href='file:///home/mrufolo/.conda/envs/mruf_env/lib/python3.12/site-packages/IPython/core/interactiveshell.py?line=305'>306</a>\u001b[0m         \u001b[39m\"\u001b[39m\u001b[39mas it is likely to crash IPython. If you know what you are doing, \u001b[39m\u001b[39m\"\u001b[39m\n\u001b[1;32m    <a href='file:///home/mrufolo/.conda/envs/mruf_env/lib/python3.12/site-packages/IPython/core/interactiveshell.py?line=306'>307</a>\u001b[0m         \u001b[39m\"\u001b[39m\u001b[39myou can use builtins\u001b[39m\u001b[39m'\u001b[39m\u001b[39m open.\u001b[39m\u001b[39m\"\u001b[39m\n\u001b[1;32m    <a href='file:///home/mrufolo/.conda/envs/mruf_env/lib/python3.12/site-packages/IPython/core/interactiveshell.py?line=307'>308</a>\u001b[0m     )\n\u001b[0;32m--> <a href='file:///home/mrufolo/.conda/envs/mruf_env/lib/python3.12/site-packages/IPython/core/interactiveshell.py?line=309'>310</a>\u001b[0m \u001b[39mreturn\u001b[39;00m io_open(file, \u001b[39m*\u001b[39margs, \u001b[39m*\u001b[39m\u001b[39m*\u001b[39mkwargs)\n",
      "\u001b[0;31mFileNotFoundError\u001b[0m: [Errno 2] No such file or directory: '../examples/trees/tree_noerrxy12/000/output_data.json'"
     ]
    }
   ],
   "source": [
    "open(path + '/output_data.json')"
   ]
  },
  {
   "cell_type": "code",
   "execution_count": 4,
   "metadata": {},
   "outputs": [],
   "source": [
    "os.chdir(\"../\")"
   ]
  },
  {
   "cell_type": "code",
   "execution_count": 5,
   "metadata": {},
   "outputs": [
    {
     "data": {
      "text/plain": [
       "'/var/data/mrufolo/NumericalLumiInversion'"
      ]
     },
     "execution_count": 5,
     "metadata": {},
     "output_type": "execute_result"
    }
   ],
   "source": [
    "import os \n",
    "os.getcwd()"
   ]
  },
  {
   "cell_type": "code",
   "execution_count": 6,
   "metadata": {},
   "outputs": [
    {
     "ename": "FileNotFoundError",
     "evalue": "[Errno 2] No such file or directory: '/examples/trees/tree_noerrxy12/000/output_data.json'",
     "output_type": "error",
     "traceback": [
      "\u001b[0;31m---------------------------------------------------------------------------\u001b[0m",
      "\u001b[0;31mFileNotFoundError\u001b[0m                         Traceback (most recent call last)",
      "Cell \u001b[0;32mIn[6], line 2\u001b[0m\n\u001b[1;32m      1\u001b[0m path \u001b[39m=\u001b[39m \u001b[39mf\u001b[39m\u001b[39m'\u001b[39m\u001b[39m/examples/trees/tree_noerrxy12/000\u001b[39m\u001b[39m'\u001b[39m\n\u001b[0;32m----> 2\u001b[0m js \u001b[39m=\u001b[39m \u001b[39mopen\u001b[39m(path \u001b[39m+\u001b[39m \u001b[39m'\u001b[39m\u001b[39m/output_data.json\u001b[39m\u001b[39m'\u001b[39m)\n",
      "File \u001b[0;32m~/.conda/envs/mruf_env/lib/python3.12/site-packages/IPython/core/interactiveshell.py:310\u001b[0m, in \u001b[0;36m_modified_open\u001b[0;34m(file, *args, **kwargs)\u001b[0m\n\u001b[1;32m    <a href='file:///home/mrufolo/.conda/envs/mruf_env/lib/python3.12/site-packages/IPython/core/interactiveshell.py?line=302'>303</a>\u001b[0m \u001b[39mif\u001b[39;00m file \u001b[39min\u001b[39;00m {\u001b[39m0\u001b[39m, \u001b[39m1\u001b[39m, \u001b[39m2\u001b[39m}:\n\u001b[1;32m    <a href='file:///home/mrufolo/.conda/envs/mruf_env/lib/python3.12/site-packages/IPython/core/interactiveshell.py?line=303'>304</a>\u001b[0m     \u001b[39mraise\u001b[39;00m \u001b[39mValueError\u001b[39;00m(\n\u001b[1;32m    <a href='file:///home/mrufolo/.conda/envs/mruf_env/lib/python3.12/site-packages/IPython/core/interactiveshell.py?line=304'>305</a>\u001b[0m         \u001b[39mf\u001b[39m\u001b[39m\"\u001b[39m\u001b[39mIPython won\u001b[39m\u001b[39m'\u001b[39m\u001b[39mt let you open fd=\u001b[39m\u001b[39m{\u001b[39;00mfile\u001b[39m}\u001b[39;00m\u001b[39m by default \u001b[39m\u001b[39m\"\u001b[39m\n\u001b[1;32m    <a href='file:///home/mrufolo/.conda/envs/mruf_env/lib/python3.12/site-packages/IPython/core/interactiveshell.py?line=305'>306</a>\u001b[0m         \u001b[39m\"\u001b[39m\u001b[39mas it is likely to crash IPython. If you know what you are doing, \u001b[39m\u001b[39m\"\u001b[39m\n\u001b[1;32m    <a href='file:///home/mrufolo/.conda/envs/mruf_env/lib/python3.12/site-packages/IPython/core/interactiveshell.py?line=306'>307</a>\u001b[0m         \u001b[39m\"\u001b[39m\u001b[39myou can use builtins\u001b[39m\u001b[39m'\u001b[39m\u001b[39m open.\u001b[39m\u001b[39m\"\u001b[39m\n\u001b[1;32m    <a href='file:///home/mrufolo/.conda/envs/mruf_env/lib/python3.12/site-packages/IPython/core/interactiveshell.py?line=307'>308</a>\u001b[0m     )\n\u001b[0;32m--> <a href='file:///home/mrufolo/.conda/envs/mruf_env/lib/python3.12/site-packages/IPython/core/interactiveshell.py?line=309'>310</a>\u001b[0m \u001b[39mreturn\u001b[39;00m io_open(file, \u001b[39m*\u001b[39margs, \u001b[39m*\u001b[39m\u001b[39m*\u001b[39mkwargs)\n",
      "\u001b[0;31mFileNotFoundError\u001b[0m: [Errno 2] No such file or directory: '/examples/trees/tree_noerrxy12/000/output_data.json'"
     ]
    }
   ],
   "source": [
    "path = f'/examples/trees/tree_noerrxy12/000'\n",
    "js = open(path + '/output_data.json')"
   ]
  },
  {
   "cell_type": "code",
   "execution_count": 7,
   "metadata": {},
   "outputs": [
    {
     "ename": "FileNotFoundError",
     "evalue": "[Errno 2] No such file or directory: 'examples/trees/tree_noerrxy12/000/output_data.json'",
     "output_type": "error",
     "traceback": [
      "\u001b[0;31m---------------------------------------------------------------------------\u001b[0m",
      "\u001b[0;31mFileNotFoundError\u001b[0m                         Traceback (most recent call last)",
      "Cell \u001b[0;32mIn[7], line 2\u001b[0m\n\u001b[1;32m      1\u001b[0m path \u001b[39m=\u001b[39m \u001b[39mf\u001b[39m\u001b[39m'\u001b[39m\u001b[39mexamples/trees/tree_noerrxy12/000\u001b[39m\u001b[39m'\u001b[39m\n\u001b[0;32m----> 2\u001b[0m js \u001b[39m=\u001b[39m \u001b[39mopen\u001b[39m(path \u001b[39m+\u001b[39m \u001b[39m'\u001b[39m\u001b[39m/output_data.json\u001b[39m\u001b[39m'\u001b[39m)\n",
      "File \u001b[0;32m~/.conda/envs/mruf_env/lib/python3.12/site-packages/IPython/core/interactiveshell.py:310\u001b[0m, in \u001b[0;36m_modified_open\u001b[0;34m(file, *args, **kwargs)\u001b[0m\n\u001b[1;32m    <a href='file:///home/mrufolo/.conda/envs/mruf_env/lib/python3.12/site-packages/IPython/core/interactiveshell.py?line=302'>303</a>\u001b[0m \u001b[39mif\u001b[39;00m file \u001b[39min\u001b[39;00m {\u001b[39m0\u001b[39m, \u001b[39m1\u001b[39m, \u001b[39m2\u001b[39m}:\n\u001b[1;32m    <a href='file:///home/mrufolo/.conda/envs/mruf_env/lib/python3.12/site-packages/IPython/core/interactiveshell.py?line=303'>304</a>\u001b[0m     \u001b[39mraise\u001b[39;00m \u001b[39mValueError\u001b[39;00m(\n\u001b[1;32m    <a href='file:///home/mrufolo/.conda/envs/mruf_env/lib/python3.12/site-packages/IPython/core/interactiveshell.py?line=304'>305</a>\u001b[0m         \u001b[39mf\u001b[39m\u001b[39m\"\u001b[39m\u001b[39mIPython won\u001b[39m\u001b[39m'\u001b[39m\u001b[39mt let you open fd=\u001b[39m\u001b[39m{\u001b[39;00mfile\u001b[39m}\u001b[39;00m\u001b[39m by default \u001b[39m\u001b[39m\"\u001b[39m\n\u001b[1;32m    <a href='file:///home/mrufolo/.conda/envs/mruf_env/lib/python3.12/site-packages/IPython/core/interactiveshell.py?line=305'>306</a>\u001b[0m         \u001b[39m\"\u001b[39m\u001b[39mas it is likely to crash IPython. If you know what you are doing, \u001b[39m\u001b[39m\"\u001b[39m\n\u001b[1;32m    <a href='file:///home/mrufolo/.conda/envs/mruf_env/lib/python3.12/site-packages/IPython/core/interactiveshell.py?line=306'>307</a>\u001b[0m         \u001b[39m\"\u001b[39m\u001b[39myou can use builtins\u001b[39m\u001b[39m'\u001b[39m\u001b[39m open.\u001b[39m\u001b[39m\"\u001b[39m\n\u001b[1;32m    <a href='file:///home/mrufolo/.conda/envs/mruf_env/lib/python3.12/site-packages/IPython/core/interactiveshell.py?line=307'>308</a>\u001b[0m     )\n\u001b[0;32m--> <a href='file:///home/mrufolo/.conda/envs/mruf_env/lib/python3.12/site-packages/IPython/core/interactiveshell.py?line=309'>310</a>\u001b[0m \u001b[39mreturn\u001b[39;00m io_open(file, \u001b[39m*\u001b[39margs, \u001b[39m*\u001b[39m\u001b[39m*\u001b[39mkwargs)\n",
      "\u001b[0;31mFileNotFoundError\u001b[0m: [Errno 2] No such file or directory: 'examples/trees/tree_noerrxy12/000/output_data.json'"
     ]
    }
   ],
   "source": [
    "path = f'examples/trees/tree_noerrxy12/000'\n",
    "js = open(path + '/output_data.json')"
   ]
  }
 ],
 "metadata": {
  "kernelspec": {
   "display_name": "mruf_env",
   "language": "python",
   "name": "python3"
  },
  "language_info": {
   "codemirror_mode": {
    "name": "ipython",
    "version": 3
   },
   "file_extension": ".py",
   "mimetype": "text/x-python",
   "name": "python",
   "nbconvert_exporter": "python",
   "pygments_lexer": "ipython3",
   "version": "3.12.1"
  }
 },
 "nbformat": 4,
 "nbformat_minor": 2
}
